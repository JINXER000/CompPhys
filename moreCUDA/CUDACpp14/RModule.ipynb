{
 "cells": [
  {
   "cell_type": "markdown",
   "metadata": {},
   "source": [
    "## Verifying Matrix Multiplication results from CUBLAS, using NumPy"
   ]
  },
  {
   "cell_type": "code",
   "execution_count": 1,
   "metadata": {},
   "outputs": [],
   "source": [
    "import numpy\n",
    "import numpy as np"
   ]
  },
  {
   "cell_type": "code",
   "execution_count": 2,
   "metadata": {},
   "outputs": [],
   "source": [
    "m=6\n",
    "n=4\n",
    "k=5"
   ]
  },
  {
   "cell_type": "code",
   "execution_count": 3,
   "metadata": {},
   "outputs": [],
   "source": [
    "A = np.array(range(11,41)).reshape((k,m))\n",
    "A = A.T\n",
    "B = np.array(range(11,31)).reshape((n,k))\n",
    "B = B.T\n",
    "C = np.array(range(11,35)).reshape((n,m))\n",
    "C = C.T"
   ]
  },
  {
   "cell_type": "code",
   "execution_count": 4,
   "metadata": {},
   "outputs": [
    {
     "name": "stdout",
     "output_type": "stream",
     "text": [
      "[[11 17 23 29 35]\n",
      " [12 18 24 30 36]\n",
      " [13 19 25 31 37]\n",
      " [14 20 26 32 38]\n",
      " [15 21 27 33 39]\n",
      " [16 22 28 34 40]]\n",
      "[[11 16 21 26]\n",
      " [12 17 22 27]\n",
      " [13 18 23 28]\n",
      " [14 19 24 29]\n",
      " [15 20 25 30]]\n",
      "[[11 17 23 29]\n",
      " [12 18 24 30]\n",
      " [13 19 25 31]\n",
      " [14 20 26 32]\n",
      " [15 21 27 33]\n",
      " [16 22 28 34]]\n"
     ]
    }
   ],
   "source": [
    "print(A); print(B); print(C)"
   ]
  },
  {
   "cell_type": "code",
   "execution_count": 5,
   "metadata": {},
   "outputs": [
    {
     "data": {
      "text/plain": [
       "array([[1566, 2147, 2728, 3309],\n",
       "       [1632, 2238, 2844, 3450],\n",
       "       [1698, 2329, 2960, 3591],\n",
       "       [1764, 2420, 3076, 3732],\n",
       "       [1830, 2511, 3192, 3873],\n",
       "       [1896, 2602, 3308, 4014]])"
      ]
     },
     "execution_count": 5,
     "metadata": {},
     "output_type": "execute_result"
    }
   ],
   "source": [
    "np.dot(A,B)+C"
   ]
  },
  {
   "cell_type": "code",
   "execution_count": 6,
   "metadata": {},
   "outputs": [
    {
     "data": {
      "text/plain": [
       "array([[1555, 2130, 2705, 3280],\n",
       "       [1620, 2220, 2820, 3420],\n",
       "       [1685, 2310, 2935, 3560],\n",
       "       [1750, 2400, 3050, 3700],\n",
       "       [1815, 2490, 3165, 3840],\n",
       "       [1880, 2580, 3280, 3980]])"
      ]
     },
     "execution_count": 6,
     "metadata": {},
     "output_type": "execute_result"
    }
   ],
   "source": [
    "np.dot(A,B)"
   ]
  },
  {
   "cell_type": "code",
   "execution_count": null,
   "metadata": {},
   "outputs": [],
   "source": []
  }
 ],
 "metadata": {
  "kernelspec": {
   "display_name": "Python 2",
   "language": "python",
   "name": "python2"
  },
  "language_info": {
   "codemirror_mode": {
    "name": "ipython",
    "version": 2
   },
   "file_extension": ".py",
   "mimetype": "text/x-python",
   "name": "python",
   "nbconvert_exporter": "python",
   "pygments_lexer": "ipython2",
   "version": "2.7.13"
  }
 },
 "nbformat": 4,
 "nbformat_minor": 2
}
